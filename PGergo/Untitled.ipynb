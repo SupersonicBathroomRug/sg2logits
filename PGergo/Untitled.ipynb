{
 "cells": [
  {
   "cell_type": "code",
   "execution_count": 1,
   "metadata": {},
   "outputs": [
    {
     "name": "stdout",
     "output_type": "stream",
     "text": [
      "/home/gergopool/work/stylegan2\n"
     ]
    }
   ],
   "source": [
    "%cd .."
   ]
  },
  {
   "cell_type": "code",
   "execution_count": 2,
   "metadata": {},
   "outputs": [
    {
     "name": "stderr",
     "output_type": "stream",
     "text": [
      "/home/gergopool/miniconda3/envs/stylegan/lib/python3.6/site-packages/tensorflow/python/framework/dtypes.py:516: FutureWarning: Passing (type, 1) or '1type' as a synonym of type is deprecated; in a future version of numpy, it will be understood as (type, (1,)) / '(1,)type'.\n",
      "  _np_qint8 = np.dtype([(\"qint8\", np.int8, 1)])\n",
      "/home/gergopool/miniconda3/envs/stylegan/lib/python3.6/site-packages/tensorflow/python/framework/dtypes.py:517: FutureWarning: Passing (type, 1) or '1type' as a synonym of type is deprecated; in a future version of numpy, it will be understood as (type, (1,)) / '(1,)type'.\n",
      "  _np_quint8 = np.dtype([(\"quint8\", np.uint8, 1)])\n",
      "/home/gergopool/miniconda3/envs/stylegan/lib/python3.6/site-packages/tensorflow/python/framework/dtypes.py:518: FutureWarning: Passing (type, 1) or '1type' as a synonym of type is deprecated; in a future version of numpy, it will be understood as (type, (1,)) / '(1,)type'.\n",
      "  _np_qint16 = np.dtype([(\"qint16\", np.int16, 1)])\n",
      "/home/gergopool/miniconda3/envs/stylegan/lib/python3.6/site-packages/tensorflow/python/framework/dtypes.py:519: FutureWarning: Passing (type, 1) or '1type' as a synonym of type is deprecated; in a future version of numpy, it will be understood as (type, (1,)) / '(1,)type'.\n",
      "  _np_quint16 = np.dtype([(\"quint16\", np.uint16, 1)])\n",
      "/home/gergopool/miniconda3/envs/stylegan/lib/python3.6/site-packages/tensorflow/python/framework/dtypes.py:520: FutureWarning: Passing (type, 1) or '1type' as a synonym of type is deprecated; in a future version of numpy, it will be understood as (type, (1,)) / '(1,)type'.\n",
      "  _np_qint32 = np.dtype([(\"qint32\", np.int32, 1)])\n",
      "/home/gergopool/miniconda3/envs/stylegan/lib/python3.6/site-packages/tensorflow/python/framework/dtypes.py:525: FutureWarning: Passing (type, 1) or '1type' as a synonym of type is deprecated; in a future version of numpy, it will be understood as (type, (1,)) / '(1,)type'.\n",
      "  np_resource = np.dtype([(\"resource\", np.ubyte, 1)])\n",
      "/home/gergopool/miniconda3/envs/stylegan/lib/python3.6/site-packages/tensorboard/compat/tensorflow_stub/dtypes.py:541: FutureWarning: Passing (type, 1) or '1type' as a synonym of type is deprecated; in a future version of numpy, it will be understood as (type, (1,)) / '(1,)type'.\n",
      "  _np_qint8 = np.dtype([(\"qint8\", np.int8, 1)])\n",
      "/home/gergopool/miniconda3/envs/stylegan/lib/python3.6/site-packages/tensorboard/compat/tensorflow_stub/dtypes.py:542: FutureWarning: Passing (type, 1) or '1type' as a synonym of type is deprecated; in a future version of numpy, it will be understood as (type, (1,)) / '(1,)type'.\n",
      "  _np_quint8 = np.dtype([(\"quint8\", np.uint8, 1)])\n",
      "/home/gergopool/miniconda3/envs/stylegan/lib/python3.6/site-packages/tensorboard/compat/tensorflow_stub/dtypes.py:543: FutureWarning: Passing (type, 1) or '1type' as a synonym of type is deprecated; in a future version of numpy, it will be understood as (type, (1,)) / '(1,)type'.\n",
      "  _np_qint16 = np.dtype([(\"qint16\", np.int16, 1)])\n",
      "/home/gergopool/miniconda3/envs/stylegan/lib/python3.6/site-packages/tensorboard/compat/tensorflow_stub/dtypes.py:544: FutureWarning: Passing (type, 1) or '1type' as a synonym of type is deprecated; in a future version of numpy, it will be understood as (type, (1,)) / '(1,)type'.\n",
      "  _np_quint16 = np.dtype([(\"quint16\", np.uint16, 1)])\n",
      "/home/gergopool/miniconda3/envs/stylegan/lib/python3.6/site-packages/tensorboard/compat/tensorflow_stub/dtypes.py:545: FutureWarning: Passing (type, 1) or '1type' as a synonym of type is deprecated; in a future version of numpy, it will be understood as (type, (1,)) / '(1,)type'.\n",
      "  _np_qint32 = np.dtype([(\"qint32\", np.int32, 1)])\n",
      "/home/gergopool/miniconda3/envs/stylegan/lib/python3.6/site-packages/tensorboard/compat/tensorflow_stub/dtypes.py:550: FutureWarning: Passing (type, 1) or '1type' as a synonym of type is deprecated; in a future version of numpy, it will be understood as (type, (1,)) / '(1,)type'.\n",
      "  np_resource = np.dtype([(\"resource\", np.ubyte, 1)])\n"
     ]
    }
   ],
   "source": [
    "import argparse\n",
    "import numpy as np\n",
    "import PIL.Image\n",
    "import dnnlib\n",
    "import dnnlib.tflib as tflib\n",
    "import re\n",
    "import sys\n",
    "from io import BytesIO\n",
    "import numpy as np\n",
    "from math import ceil\n",
    "from PIL import Image, ImageDraw\n",
    "import imageio\n",
    "\n",
    "import pretrained_networks"
   ]
  },
  {
   "cell_type": "code",
   "execution_count": 3,
   "metadata": {},
   "outputs": [
    {
     "name": "stdout",
     "output_type": "stream",
     "text": [
      "Loading networks from \"gdrive:networks/stylegan2-ffhq-config-f.pkl\"...\n",
      "Setting up TensorFlow plugin \"fused_bias_act.cu\": Preprocessing... Loading... Done.\n",
      "Setting up TensorFlow plugin \"upfirdn_2d.cu\": Preprocessing... Loading... Done.\n"
     ]
    }
   ],
   "source": [
    "network_pkl = \"gdrive:networks/stylegan2-ffhq-config-f.pkl\"\n",
    "print('Loading networks from \"%s\"...' % network_pkl)\n",
    "_G, _D, Gs = pretrained_networks.load_networks(network_pkl)\n",
    "noise_vars = [var for name, var in Gs.components.synthesis.vars.items() if name.startswith('noise')]"
   ]
  },
  {
   "cell_type": "code",
   "execution_count": 17,
   "metadata": {},
   "outputs": [
    {
     "name": "stdout",
     "output_type": "stream",
     "text": [
      "/home/gergopool/work/stylegan2/dataset_tool.py\n",
      "Loading images from \"./projection/imgs/\"\n",
      "Creating dataset \"./projection/records/\"\n",
      "Added 1 images.                         \n"
     ]
    }
   ],
   "source": [
    "# Convert uploaded images to TFRecords\n",
    "import run_projector\n",
    "import dream_projector\n",
    "\n",
    "def dream_project(Gs, network_protobuf_path, layer_name, neuron_index, png_prefix, num_snapshots):\n",
    "    proj = dream_projector.DreamProjector()\n",
    "    proj.set_network(Gs, network_protobuf_path, layer_name, neuron_index)\n",
    "    run_projector.dream_project(proj, png_prefix, num_snapshots)"
   ]
  },
  {
   "cell_type": "code",
   "execution_count": 18,
   "metadata": {},
   "outputs": [
    {
     "name": "stdout",
     "output_type": "stream",
     "text": [
      "                              \r"
     ]
    }
   ],
   "source": [
    "def vis_all(pb, layer_info):\n",
    "    \n",
    "    \n",
    "\n",
    "\n",
    "network_protobuf_path = 'adam.pb'\n",
    "layer_name = 'Logits/convolution'\n",
    "neuron_index = 4 # Bald\n",
    "fancy_layer_name = 'Adam-Bald' #layer_name.replace(\"_act/Relu\", \"\")\n",
    "neuron_index = int(neuron_index)\n",
    "\n",
    "\n",
    "\n",
    "dream_project(Gs, network_protobuf_path, layer_name, neuron_index, png_prefix='projection/out/image-', num_snapshots=100)\n",
    "\n",
    "# TODO 300 hardwired already in dream_projector\n",
    "import shutil\n",
    "shutil.copyfile('projection/out/image-step%04d.png' % 300, \"projection/%s-%03d.png\" % (fancy_layer_name, neuron_index))\n",
    "\n",
    "# Create vid\n",
    "\n",
    "import glob\n",
    "\n",
    "imgs = sorted(glob.glob(\"projection/out/*step*.png\"))\n",
    "\n",
    "movieName = \"projection/%s-%03d.mp4\" % (fancy_layer_name, neuron_index)\n",
    "with imageio.get_writer(movieName, mode='I') as writer:\n",
    "    for filename in imgs:\n",
    "        image = imageio.imread(filename)\n",
    "\n",
    "        # Concatenate images with original target image\n",
    "        w,h = image.shape[0:2]\n",
    "        canvas = PIL.Image.new('RGBA', (w,h), 'white')\n",
    "        canvas.paste(Image.fromarray(image), (0, 0))\n",
    "\n",
    "        writer.append_data(np.array(canvas))"
   ]
  },
  {
   "cell_type": "code",
   "execution_count": 19,
   "metadata": {},
   "outputs": [
    {
     "data": {
      "text/plain": [
       "(array([ 69400., 118146., 457576., 529588., 637797., 452772., 466985.,\n",
       "        181586., 119765., 112113.]),\n",
       " array([  0. ,  25.5,  51. ,  76.5, 102. , 127.5, 153. , 178.5, 204. ,\n",
       "        229.5, 255. ]),\n",
       " <BarContainer object of 10 artists>)"
      ]
     },
     "execution_count": 19,
     "metadata": {},
     "output_type": "execute_result"
    },
    {
     "data": {
      "image/png": "[encoded data removed]",
      "text/plain": [
       "<Figure size 432x288 with 1 Axes>"
      ]
     },
     "metadata": {
      "needs_background": "light"
     },
     "output_type": "display_data"
    }
   ],
   "source": [
    "%matplotlib inline\n",
    "from matplotlib import pyplot as plt\n",
    "\n",
    "plt.hist(image.flatten())"
   ]
  },
  {
   "cell_type": "code",
   "execution_count": null,
   "metadata": {},
   "outputs": [],
   "source": []
  }
 ],
 "metadata": {
  "kernelspec": {
   "display_name": "Python 3",
   "language": "python",
   "name": "python3"
  },
  "language_info": {
   "codemirror_mode": {
    "name": "ipython",
    "version": 3
   },
   "file_extension": ".py",
   "mimetype": "text/x-python",
   "name": "python",
   "nbconvert_exporter": "python",
   "pygments_lexer": "ipython3",
   "version": "3.6.12"
  }
 },
 "nbformat": 4,
 "nbformat_minor": 4
}
